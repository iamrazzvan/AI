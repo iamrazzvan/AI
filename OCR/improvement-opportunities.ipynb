{
 "cells": [
  {
   "metadata": {
    "ExecuteTime": {
     "end_time": "2025-03-18T13:49:10.139711Z",
     "start_time": "2025-03-18T13:49:08.967521Z"
    }
   },
   "cell_type": "code",
   "source": [
    "import os\n",
    "import cv2\n",
    "import time\n",
    "\n",
    "from dotenv import load_dotenv\n",
    "from azure.cognitiveservices.vision.computervision import ComputerVisionClient\n",
    "from azure.cognitiveservices.vision.computervision.models import OperationStatusCodes\n",
    "from msrest.authentication import CognitiveServicesCredentials"
   ],
   "id": "4cd3cc876d73478d",
   "outputs": [],
   "execution_count": 1
  },
  {
   "metadata": {
    "ExecuteTime": {
     "end_time": "2025-03-18T13:50:33.126225Z",
     "start_time": "2025-03-18T13:50:33.097482Z"
    }
   },
   "cell_type": "code",
   "source": [
    "'''\n",
    "Authenticate\n",
    "Authenticates your credentials and creates a client.\n",
    "'''\n",
    "\n",
    "load_dotenv('azure.env')\n",
    "\n",
    "subscription_key = os.getenv(\"AZURE_SUBSCRIPTION_KEY\")\n",
    "endpoint = os.getenv(\"AZURE_ENDPOINT\")\n",
    "\n",
    "if not subscription_key or not endpoint:\n",
    "    raise ValueError(\"Environment variables are missing!\")\n",
    "\n",
    "cognitive_services_credentials = CognitiveServicesCredentials(subscription_key)\n",
    "\n",
    "computervision_client = ComputerVisionClient(endpoint, cognitive_services_credentials)\n",
    "\n",
    "'''\n",
    "END - Authenticate\n",
    "'''"
   ],
   "id": "367a23cee5f02a00",
   "outputs": [
    {
     "data": {
      "text/plain": [
       "'\\nEND - Authenticate\\n'"
      ]
     },
     "execution_count": 2,
     "metadata": {},
     "output_type": "execute_result"
    }
   ],
   "execution_count": 2
  },
  {
   "metadata": {
    "ExecuteTime": {
     "end_time": "2025-03-18T13:51:25.875257Z",
     "start_time": "2025-03-18T13:51:25.850251Z"
    }
   },
   "cell_type": "code",
   "source": [
    "# Function to load and preprocess the image\n",
    "def preprocess_image(img_path):\n",
    "    img = cv2.imread(img_path, 0)\n",
    "    # Apply adaptive thresholding to binarize the image\n",
    "    binary_img = cv2.adaptiveThreshold(img, 255, cv2.ADAPTIVE_THRESH_GAUSSIAN_C, cv2.THRESH_BINARY, 11, 2)\n",
    "    return binary_img\n",
    "\n",
    "# Function to remove noise using median blur\n",
    "def remove_noise(binary_img):\n",
    "    noise_removed = cv2.medianBlur(binary_img, 3)\n",
    "    return noise_removed\n",
    "\n",
    "# Function to save the preprocessed image\n",
    "def save_image(image, save_path):\n",
    "    cv2.imwrite(save_path, image)\n",
    "\n",
    "# Function to perform OCR on the image\n",
    "def ocr_image(img_path):\n",
    "    with open(img_path, \"rb\") as image_stream:\n",
    "        ocr_result = computervision_client.read_in_stream(\n",
    "            image_stream, language=\"en\", raw=True\n",
    "        )\n",
    "\n",
    "    # Get operation ID from response header\n",
    "    op_location = ocr_result.headers[\"Operation-Location\"]\n",
    "    op_id = op_location.split(\"/\")[-1]\n",
    "\n",
    "    # Poll for OCR completion\n",
    "    while True:\n",
    "        ocr_result = computervision_client.get_read_result(op_id)\n",
    "        if ocr_result.status not in ['notStarted', 'running']:\n",
    "            break\n",
    "        time.sleep(1)\n",
    "\n",
    "    return ocr_result\n",
    "\n",
    "# Function to extract text from OCR result\n",
    "def extract_text_from_result(ocr_result):\n",
    "    text = \"\"\n",
    "    if ocr_result.status == OperationStatusCodes.succeeded:\n",
    "        for text_result in ocr_result.analyze_result.read_results:\n",
    "            for line in text_result.lines:\n",
    "                text += line.text + \"\\n\"\n",
    "    return text"
   ],
   "id": "81f4de35d450b398",
   "outputs": [],
   "execution_count": 5
  },
  {
   "metadata": {
    "ExecuteTime": {
     "end_time": "2025-03-18T13:51:31.646098Z",
     "start_time": "2025-03-18T13:51:29.481171Z"
    }
   },
   "cell_type": "code",
   "source": [
    "image_path = 'data/images2/test2.png'\n",
    "output_path = 'data/images2/test2_processed.png'\n",
    "\n",
    "binary_image = preprocess_image(image_path)\n",
    "noise_removed_img = remove_noise(binary_image)\n",
    "\n",
    "save_image(noise_removed_img, output_path)\n",
    "\n",
    "result = ocr_image(output_path)\n",
    "\n",
    "extracted_text = extract_text_from_result(result)\n",
    "\n",
    "print(extracted_text)"
   ],
   "id": "db1d75be66c96f86",
   "outputs": [
    {
     "name": "stdout",
     "output_type": "stream",
     "text": [
      "Succes\n",
      "in Rezolvaria\n",
      "TEMELOR la\n",
      "LABORA toarele de\n",
      "Inteligenta Artificiala\n",
      "\n"
     ]
    }
   ],
   "execution_count": 6
  }
 ],
 "metadata": {
  "kernelspec": {
   "display_name": "Python 3",
   "language": "python",
   "name": "python3"
  },
  "language_info": {
   "codemirror_mode": {
    "name": "ipython",
    "version": 2
   },
   "file_extension": ".py",
   "mimetype": "text/x-python",
   "name": "python",
   "nbconvert_exporter": "python",
   "pygments_lexer": "ipython2",
   "version": "2.7.6"
  }
 },
 "nbformat": 4,
 "nbformat_minor": 5
}
