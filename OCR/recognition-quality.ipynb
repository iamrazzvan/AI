{
 "cells": [
  {
   "metadata": {
    "ExecuteTime": {
     "end_time": "2025-03-18T13:49:01.529436Z",
     "start_time": "2025-03-18T13:49:00.304863Z"
    }
   },
   "cell_type": "code",
   "source": [
    "import os\n",
    "import numpy as np\n",
    "import time\n",
    "import Levenshtein\n",
    "\n",
    "from dotenv import load_dotenv\n",
    "from azure.cognitiveservices.vision.computervision import ComputerVisionClient\n",
    "from azure.cognitiveservices.vision.computervision.models import OperationStatusCodes\n",
    "from msrest.authentication import CognitiveServicesCredentials"
   ],
   "id": "8585deab56c0346d",
   "outputs": [],
   "execution_count": 1
  },
  {
   "metadata": {
    "ExecuteTime": {
     "end_time": "2025-03-18T13:49:19.303698Z",
     "start_time": "2025-03-18T13:49:19.285023Z"
    }
   },
   "cell_type": "code",
   "source": [
    "'''\n",
    "Authenticate\n",
    "Authenticates your credentials and creates a client.\n",
    "'''\n",
    "\n",
    "load_dotenv('azure.env')\n",
    "\n",
    "subscription_key = os.getenv(\"AZURE_SUBSCRIPTION_KEY\")\n",
    "endpoint = os.getenv(\"AZURE_ENDPOINT\")\n",
    "\n",
    "if not subscription_key or not endpoint:\n",
    "    raise ValueError(\"Environment variables are missing!\")\n",
    "\n",
    "cognitive_services_credentials = CognitiveServicesCredentials(subscription_key)\n",
    "\n",
    "computervision_client = ComputerVisionClient(endpoint, cognitive_services_credentials)\n",
    "\n",
    "'''\n",
    "END - Authenticate\n",
    "'''"
   ],
   "id": "53875816347a66a9",
   "outputs": [
    {
     "data": {
      "text/plain": [
       "'\\nEND - Authenticate\\n'"
      ]
     },
     "execution_count": 2,
     "metadata": {},
     "output_type": "execute_result"
    }
   ],
   "execution_count": 2
  },
  {
   "metadata": {
    "ExecuteTime": {
     "end_time": "2025-03-18T13:49:22.425871Z",
     "start_time": "2025-03-18T13:49:22.415120Z"
    }
   },
   "cell_type": "code",
   "source": [
    "def extract_text_from_image(img_path):\n",
    "    with open(img_path, \"rb\") as image_stream:\n",
    "        read_response = computervision_client.read_in_stream(image_stream, raw=True)\n",
    "\n",
    "    # Aflam ID-ul operatiei\n",
    "    read_operation_location = read_response.headers[\"Operation-Location\"]\n",
    "    operation_id = read_operation_location.split(\"/\")[-1]\n",
    "\n",
    "    # Asteptam pana cand operatia este completata\n",
    "    while True:\n",
    "        read_result = computervision_client.get_read_result(operation_id)\n",
    "        if read_result.status not in ['notStarted', 'running']:\n",
    "            break\n",
    "        time.sleep(1)\n",
    "\n",
    "    # Extragem textul din imagine\n",
    "    text = \"\"\n",
    "    if read_result.status == OperationStatusCodes.succeeded:\n",
    "        for result in read_result.analyze_result.read_results:\n",
    "            for line in result.lines:\n",
    "                text += line.text + \" \"\n",
    "    return text.strip()"
   ],
   "id": "e07439b6ef28b332",
   "outputs": [],
   "execution_count": 3
  },
  {
   "metadata": {
    "ExecuteTime": {
     "end_time": "2025-03-18T13:49:25.259599Z",
     "start_time": "2025-03-18T13:49:25.249944Z"
    }
   },
   "cell_type": "code",
   "source": [
    "def levenshtein_distance(result, text):\n",
    "    char_distance = Levenshtein.distance(text, result)\n",
    "\n",
    "    words = text.split()\n",
    "    result_words = result.split()\n",
    "\n",
    "    word_distance = Levenshtein.distance(words, result_words)\n",
    "\n",
    "    return char_distance, word_distance"
   ],
   "id": "7276eee7cc5dce39",
   "outputs": [],
   "execution_count": 4
  },
  {
   "metadata": {
    "ExecuteTime": {
     "end_time": "2025-03-18T13:49:27.139399Z",
     "start_time": "2025-03-18T13:49:27.128027Z"
    }
   },
   "cell_type": "code",
   "source": [
    "def jaccard_similarity(text, result):\n",
    "    # Construieste seturile de caractere sau cuvinte\n",
    "    set_text = set(text.split())\n",
    "    set_result = set(result.split())\n",
    "\n",
    "    # Calculam intersectia si reuniunea seturilor\n",
    "    intersection = len(set_text & set_result)\n",
    "    union = len(set_text | set_result)\n",
    "\n",
    "    return intersection / union if union != 0 else 0\n",
    "\n",
    "def hamming_distance(text, result):\n",
    "    # Verifica daca textul si rezultatul au aceeasi lungime\n",
    "    if len(text) != len(result):\n",
    "        raise ValueError(\"Textul și rezultatul trebuie să aibă aceeași lungime\")\n",
    "\n",
    "    # Calcularea distantei Hamming\n",
    "    distance = 0\n",
    "    for t_char, r_char in zip(text, result):\n",
    "        if t_char != r_char:\n",
    "            distance += 1\n",
    "\n",
    "    return distance\n",
    "\n",
    "def euclidean_distance(text, result):\n",
    "    # Construieste vectorii de frecventa a caracterelor\n",
    "    text_freq = np.array([text.count(chr(i)) for i in range(128)])\n",
    "    result_freq = np.array([result.count(chr(i)) for i in range(128)])\n",
    "\n",
    "    # Calculeaza distanta Euclidiana\n",
    "    distance = np.linalg.norm(text_freq - result_freq)\n",
    "\n",
    "    return distance"
   ],
   "id": "913856e009741382",
   "outputs": [],
   "execution_count": 5
  },
  {
   "metadata": {
    "ExecuteTime": {
     "end_time": "2025-03-18T14:45:57.699851Z",
     "start_time": "2025-03-18T14:45:55.570808Z"
    }
   },
   "cell_type": "code",
   "source": [
    "image_path = \"data/images2/test3.png\"\n",
    "\n",
    "#expected_text = \"Succes in rezolvarea tEMELOR la LABORAtoarele de Inteligenta Artificiala\"\n",
    "#expected_text = \"Google Cloud Platform\"\n",
    "expected_text = \"Ana are mere și pere Anei nu îi plac merele, dar adoră ciocolata.\"\n",
    "\n",
    "extracted_text = extract_text_from_image(image_path)\n",
    "print(\"Text extras:\", extracted_text)\n",
    "\n",
    "lev_dist_char, lev_dist_word = levenshtein_distance(extracted_text, expected_text)\n",
    "jaccard_sim = jaccard_similarity(expected_text, extracted_text)\n",
    "hamming_dist = hamming_distance(expected_text, extracted_text)\n",
    "euclidean_dist = euclidean_distance(expected_text, extracted_text)\n",
    "\n",
    "print(f\"\\nLevenshtein Distance (caractere): {lev_dist_char}\")\n",
    "print(f\"Levenshtein Distance (cuvinte): {lev_dist_word}\")\n",
    "print(f\"Jaccard Similarity: {jaccard_sim:.2f}\")\n",
    "print(f\"Hamming Distance: {hamming_dist}\")\n",
    "print(f\"Euclidean Distance: {euclidean_dist}\")\n"
   ],
   "id": "11a43de1e19a04e8",
   "outputs": [
    {
     "name": "stdout",
     "output_type": "stream",
     "text": [
      "Text extras: Ana are mere di pere Anei nu li plac merele, dar adora ciocolata.\n",
      "\n",
      "Levenshtein Distance (caractere): 3\n",
      "Levenshtein Distance (cuvinte): 3\n",
      "Jaccard Similarity: 0.62\n",
      "Hamming Distance: 3\n",
      "Euclidean Distance: 1.7320508075688772\n"
     ]
    }
   ],
   "execution_count": 10
  }
 ],
 "metadata": {
  "kernelspec": {
   "display_name": "Python 3",
   "language": "python",
   "name": "python3"
  },
  "language_info": {
   "codemirror_mode": {
    "name": "ipython",
    "version": 2
   },
   "file_extension": ".py",
   "mimetype": "text/x-python",
   "name": "python",
   "nbconvert_exporter": "python",
   "pygments_lexer": "ipython2",
   "version": "2.7.6"
  }
 },
 "nbformat": 4,
 "nbformat_minor": 5
}
