{
 "cells": [
  {
   "cell_type": "code",
   "id": "initial_id",
   "metadata": {
    "collapsed": true,
    "ExecuteTime": {
     "end_time": "2025-03-07T11:29:36.968372Z",
     "start_time": "2025-03-07T11:29:36.953492Z"
    }
   },
   "source": [
    "def last_word(text):\n",
    "    \"\"\"\n",
    "    Functia last_word(text) returneaza ultimul cuvant, din punct de vedere alfabetic, dintr-un text\n",
    "    :param text: string, textul din care se va extrage ultimul cuvant\n",
    "    :return: string, ultimul cuvant din text\n",
    "    :complexity: O(n log n), unde n reprezinta numarul de cuvinte din text\n",
    "    \"\"\"\n",
    "\n",
    "    rez = text.split(\" \")\n",
    "    rez.sort()\n",
    "    return rez[-1]\n",
    "\n",
    "def test_last_word():\n",
    "    assert last_word(\"Ana are mere rosii si galbene\") == \"si\"\n",
    "    assert last_word(\"zebra apple banana\") == \"zebra\"\n",
    "    assert last_word(\"apple banana cherry\") == \"cherry\"\n",
    "    assert last_word(\"one two three four five\") == \"two\"\n",
    "    assert last_word(\"a quick brown fox jumps over the lazy dog\") == \"the\"\n",
    "    assert last_word(\"hello world\") == \"world\"\n",
    "    assert last_word(\"singleword\") == \"singleword\"\n",
    "    assert last_word(\"\") == \"\"\n",
    "\n",
    "    print (\"All tests passed!\")\n",
    "\n",
    "test_last_word()"
   ],
   "outputs": [
    {
     "name": "stdout",
     "output_type": "stream",
     "text": [
      "All tests passed!\n"
     ]
    }
   ],
   "execution_count": 1
  },
  {
   "metadata": {
    "ExecuteTime": {
     "end_time": "2025-03-07T07:00:27.083085Z",
     "start_time": "2025-03-07T07:00:27.067870Z"
    }
   },
   "cell_type": "code",
   "source": [
    "def euclidean_distance(x1, y1, x2, y2):\n",
    "    \"\"\"\n",
    "    Functia euclidean_distance calculeaza distanta euclidiana intre doua puncte\n",
    "    :param x1: int, coordonata x a primului punct\n",
    "    :param y1: int, coordonata y a primului punct\n",
    "    :param x2: int, coordonata x a celui de-al doilea punct\n",
    "    :param y2: int, coordonata y a celui de-al doilea punct\n",
    "    :return: float, distanta euclidiana intre cele doua puncte\n",
    "    :complexity: O(1)\n",
    "    \"\"\"\n",
    "\n",
    "    return ((x2 - x1) ** 2 + (y2 - y1) ** 2) ** 0.5\n",
    "\n",
    "def test_euclidean_distance():\n",
    "    assert euclidean_distance(1, 5, 4, 1) == 5.0\n",
    "    assert euclidean_distance(0, 0, 3, 4) == 5.0\n",
    "    assert euclidean_distance(-1, -1, 2, 3) == 5.0\n",
    "    assert euclidean_distance(2, 3, 2, 3) == 0.0\n",
    "    assert euclidean_distance(1, 1, 4, 5) == 5.0\n",
    "\n",
    "    print (\"All tests passed!\")\n",
    "\n",
    "test_euclidean_distance()"
   ],
   "id": "2155b0e4051ae490",
   "outputs": [
    {
     "name": "stdout",
     "output_type": "stream",
     "text": [
      "All tests passed!\n"
     ]
    }
   ],
   "execution_count": 2
  },
  {
   "metadata": {
    "ExecuteTime": {
     "end_time": "2025-03-07T07:00:30.417243Z",
     "start_time": "2025-03-07T07:00:30.238359Z"
    }
   },
   "cell_type": "code",
   "source": [
    "import numpy as np\n",
    "\n",
    "def scalar_product():\n",
    "    \"\"\"\n",
    "    Functia scalar_product returneaza produsul scalar a doi vectori rari care contin numere reale\n",
    "    :return: float, produsul scalar a doi vectori rari\n",
    "    :complexity: O(n)\n",
    "    \"\"\"\n",
    "\n",
    "    v = np.array([1,0,2,0,3], float)\n",
    "    w = np.array([1,2,0,3,1], float)\n",
    "\n",
    "    return np.dot(v, w)\n",
    "\n",
    "def test_scalar_product():\n",
    "    assert scalar_product() == 4.0\n",
    "\n",
    "    v1 = np.array([0, 0, 0, 0, 0], float)\n",
    "    w1 = np.array([0, 0, 0, 0, 0], float)\n",
    "    assert np.dot(v1, w1) == 0.0\n",
    "\n",
    "    v2 = np.array([1, 2, 3, 4, 5], float)\n",
    "    w2 = np.array([5, 4, 3, 2, 1], float)\n",
    "    assert np.dot(v2, w2) == 35.0\n",
    "\n",
    "    v3 = np.array([1, 0, 0, 0, 1], float)\n",
    "    w3 = np.array([1, 0, 0, 0, 1], float)\n",
    "    assert np.dot(v3, w3) == 2.0\n",
    "\n",
    "    v4 = np.array([1, 2, 3], float)\n",
    "    w4 = np.array([4, 5, 6], float)\n",
    "    assert np.dot(v4, w4) == 32.0\n",
    "\n",
    "    print (\"All tests passed!\")\n",
    "\n",
    "test_scalar_product()"
   ],
   "id": "c4437339b881ec23",
   "outputs": [
    {
     "name": "stdout",
     "output_type": "stream",
     "text": [
      "All tests passed!\n"
     ]
    }
   ],
   "execution_count": 3
  },
  {
   "metadata": {
    "ExecuteTime": {
     "end_time": "2025-03-07T07:00:32.651408Z",
     "start_time": "2025-03-07T07:00:32.635917Z"
    }
   },
   "cell_type": "code",
   "source": [
    "def unique_words(text):\n",
    "    \"\"\"\n",
    "    Functia unique_words returneaza cuvintele unui text care apar exact o singura data in acel text\n",
    "    :param text: string, textul din care se vor extrage cuvintele unice\n",
    "    :return: list, lista cu cuvintele unice\n",
    "    :complexity: O(n), unde n reprezinta numarul de cuvinte din text\n",
    "    \"\"\"\n",
    "\n",
    "    if not text.strip():\n",
    "        return []\n",
    "\n",
    "    rez = text.split(\" \")\n",
    "    rez_dict = {}\n",
    "    for cuvant in rez:\n",
    "        if cuvant in rez_dict:\n",
    "            rez_dict[cuvant] += 1\n",
    "        else:\n",
    "            rez_dict[cuvant] = 1\n",
    "    return [cuvant for cuvant in rez_dict if rez_dict[cuvant] == 1]\n",
    "\n",
    "def test_unique_words():\n",
    "    assert unique_words(\"ana are mere si pere mere pere\") == [\"ana\", \"are\", \"si\"]\n",
    "    assert unique_words(\"fiecare cuvant este unic aici\") == [\"fiecare\", \"cuvant\", \"este\", \"unic\", \"aici\"]\n",
    "    assert unique_words(\"mere mere pere pere mere pere\") == []\n",
    "    assert unique_words(\"doar\") == [\"doar\"]\n",
    "    assert unique_words(\"\") == []\n",
    "    assert unique_words(\"Ana are ana mere mere\") == [\"Ana\", \"are\", \"ana\"]\n",
    "    assert unique_words(\"Ana, are Ana mere. mere!\") == [\"Ana,\", \"are\", \"Ana\", \"mere.\", \"mere!\"]\n",
    "    assert unique_words(\"   mere   pere  mere   \") == [\"pere\"]\n",
    "\n",
    "    print(\"All tests passed!\")\n",
    "\n",
    "test_unique_words()"
   ],
   "id": "875f2083af431414",
   "outputs": [
    {
     "name": "stdout",
     "output_type": "stream",
     "text": [
      "All tests passed!\n"
     ]
    }
   ],
   "execution_count": 4
  },
  {
   "metadata": {
    "ExecuteTime": {
     "end_time": "2025-03-07T07:01:37.140832Z",
     "start_time": "2025-03-07T07:01:37.123293Z"
    }
   },
   "cell_type": "code",
   "source": [
    "def find_duplicate(arr):\n",
    "    \"\"\"\n",
    "    Functia find_duplicate returneaza valoarea care se repeta de doua ori intr-un sir\n",
    "    :param arr: list, sirul in care se va cauta valoarea care se repeta\n",
    "    :return: int, valoarea care se repeta\n",
    "    :complexity: O(n), unde n reprezinta numarul de elemente din sir\n",
    "    \"\"\"\n",
    "\n",
    "    return sum(arr) - sum(set(arr))\n",
    "\n",
    "def test_find_duplicate():\n",
    "    assert find_duplicate([1,2,3,4,2]) == 2\n",
    "    assert find_duplicate([1,2,3,4,1]) == 1\n",
    "    assert find_duplicate([1,2,3,4,3]) == 3\n",
    "    assert find_duplicate([1,2,3,4,4]) == 4\n",
    "\n",
    "    print (\"All tests passed!\")\n",
    "\n",
    "test_find_duplicate()"
   ],
   "id": "9f9dc526ec253523",
   "outputs": [
    {
     "name": "stdout",
     "output_type": "stream",
     "text": [
      "All tests passed!\n"
     ]
    }
   ],
   "execution_count": 5
  },
  {
   "metadata": {
    "ExecuteTime": {
     "end_time": "2025-03-07T07:02:21.081210Z",
     "start_time": "2025-03-07T07:02:21.066373Z"
    }
   },
   "cell_type": "code",
   "source": [
    "def majority_element(arr):\n",
    "    \"\"\"\n",
    "    Functia majority_element returneaza elementul majoritar dintr-un sir\n",
    "    :param arr: list, sirul in care se va cauta elementul majoritar\n",
    "    :return: int, elementul majoritar\n",
    "    :complexity: O(n), unde n reprezinta numarul de elemente din sir\n",
    "    \"\"\"\n",
    "\n",
    "    aparitii = {}\n",
    "    for numar in arr:\n",
    "        if numar in aparitii:\n",
    "            aparitii[numar] += 1\n",
    "        else:\n",
    "            aparitii[numar] = 1\n",
    "\n",
    "    for numar in aparitii:\n",
    "        if aparitii[numar] > len(arr) // 2:\n",
    "            return numar\n",
    "\n",
    "    return -1\n",
    "\n",
    "def test_majority_element():\n",
    "    assert majority_element([2,8,7,2,2,5,2,3,1,2,2]) == 2\n",
    "    assert majority_element([3, 3, 4, 2, 3, 3, 3]) == 3\n",
    "    assert majority_element([1, 2, 3, 4, 5]) == -1\n",
    "    assert majority_element([7, 7, 7, 7, 7]) == 7\n",
    "    assert majority_element([1, 2, 3, 3, 3, 3, 3]) == 3\n",
    "    assert majority_element([9, 9, 9, 2, 2]) == 9\n",
    "    assert majority_element([5]) == 5\n",
    "    assert majority_element([]) == -1\n",
    "\n",
    "    print (\"All tests passed!\")\n",
    "\n",
    "test_majority_element()"
   ],
   "id": "6a9a9df06c51ffb4",
   "outputs": [
    {
     "name": "stdout",
     "output_type": "stream",
     "text": [
      "All tests passed!\n"
     ]
    }
   ],
   "execution_count": 6
  },
  {
   "metadata": {
    "ExecuteTime": {
     "end_time": "2025-03-07T07:04:10.330709Z",
     "start_time": "2025-03-07T07:04:10.315504Z"
    }
   },
   "cell_type": "code",
   "source": [
    "def kth_largest_element(arr, k):\n",
    "    \"\"\"\n",
    "    Functia kth_largest_element returneaza al k-lea cel mai mare element dintr-un sir\n",
    "    :param arr: list, sirul in care se va cauta al k-lea cel mai mare element\n",
    "    :param k: int, pozitia elementului cautat\n",
    "    :return: int, al k-lea cel mai mare element\n",
    "    :complexity: O(n log n), unde n reprezinta numarul de elemente din sir\n",
    "    \"\"\"\n",
    "\n",
    "    arr.sort()\n",
    "    return arr[-k]\n",
    "\n",
    "def test_kth_largest_element():\n",
    "    assert kth_largest_element([7,4,6,3,9,1], 2) == 7\n",
    "    assert kth_largest_element([7,4,6,3,9,1], 1) == 9\n",
    "    assert kth_largest_element([7,4,6,3,9,1], 3) == 6\n",
    "    assert kth_largest_element([7,4,6,3,9,1], 4) == 4\n",
    "    assert kth_largest_element([7,4,6,3,9,1], 5) == 3\n",
    "\n",
    "    print (\"All tests passed!\")\n",
    "\n",
    "test_kth_largest_element()"
   ],
   "id": "43649467692bcf1e",
   "outputs": [
    {
     "name": "stdout",
     "output_type": "stream",
     "text": [
      "All tests passed!\n"
     ]
    }
   ],
   "execution_count": 7
  },
  {
   "metadata": {
    "ExecuteTime": {
     "end_time": "2025-03-07T07:05:07.876246Z",
     "start_time": "2025-03-07T07:05:07.859211Z"
    }
   },
   "cell_type": "code",
   "source": [
    "def generate_numbers(n):\n",
    "    \"\"\"\n",
    "    Functia generate_binary_numbers genereaza toate numerele in reprezentare binara cuprinse intre 1 si n\n",
    "    :param n: int, numarul pana la care se vor genera numerele\n",
    "    :return: list, lista cu numerele generate\n",
    "    :complexity: O(n log n), unde n reprezinta numarul pana la care se vor genera numerele\n",
    "    \"\"\"\n",
    "\n",
    "    return [bin(i)[2:] for i in range(1, n + 1)]\n",
    "\n",
    "def test_generate_numbers():\n",
    "    assert generate_numbers(4) == ['1', '10', '11', '100']\n",
    "    assert generate_numbers(5) == ['1', '10', '11', '100', '101']\n",
    "    assert generate_numbers(6) == ['1', '10', '11', '100', '101', '110']\n",
    "    assert generate_numbers(7) == ['1', '10', '11', '100', '101', '110', '111']\n",
    "    assert generate_numbers(8) == ['1', '10', '11', '100', '101', '110', '111', '1000']\n",
    "\n",
    "    print(\"All tests passed!\")\n",
    "\n",
    "test_generate_numbers()"
   ],
   "id": "7d896e0b4ae9c74f",
   "outputs": [
    {
     "name": "stdout",
     "output_type": "stream",
     "text": [
      "All tests passed!\n"
     ]
    }
   ],
   "execution_count": 8
  },
  {
   "metadata": {
    "ExecuteTime": {
     "end_time": "2025-03-07T07:05:55.421983Z",
     "start_time": "2025-03-07T07:05:55.403159Z"
    }
   },
   "cell_type": "code",
   "source": [
    "def sum_submatrices(matrix, pairs):\n",
    "    \"\"\"\n",
    "    Functia sum_submatrices calculeaza suma elementelor din submatricile identificate de fiecare pereche de coordonate\n",
    "    :param matrix: list of lists, matricea data\n",
    "    :param pairs: list of tuples, lista de perechi de coordonate\n",
    "    :return: list, lista cu sumele elementelor din submatrici\n",
    "    :complexity: O(n * m), unde n reprezinta numarul de linii al matricei, iar m reprezinta numarul de coloane al matricei\n",
    "    \"\"\"\n",
    "\n",
    "    sums = []\n",
    "    for pair in pairs:\n",
    "        x1, y1, x2, y2 = pair[0][0], pair[0][1], pair[1][0], pair[1][1]\n",
    "        sum = 0\n",
    "        for i in range(x1, x2 + 1):\n",
    "            for j in range(y1, y2 + 1):\n",
    "                sum += matrix[i][j]\n",
    "        sums.append(sum)\n",
    "    return sums\n",
    "\n",
    "def test_sum_submatrices():\n",
    "    assert sum_submatrices([[0, 2, 5, 4, 1], [4, 8, 2, 3, 7], [6, 3, 4, 6, 2], [7, 3, 1, 8, 3], [1, 5, 7, 9, 4]], [((1, 1), (3, 3)), ((2, 2), (4, 4))]) == [38, 44]\n",
    "    assert sum_submatrices([[1, 2, 3], [4, 5, 6], [7, 8, 9]], [((0, 0), (2, 2))]) == [45]\n",
    "    assert sum_submatrices([[1, 2, 3], [4, 5, 6], [7, 8, 9]], [((0, 0), (0, 0))]) == [1]\n",
    "    assert sum_submatrices([[1, 2, 3], [4, 5, 6], [7, 8, 9]], [((1, 1), (1, 1))]) == [5]\n",
    "    assert sum_submatrices([[1, 2, 3], [4, 5, 6], [7, 8, 9]], [((2, 2), (2, 2))]) == [9]\n",
    "\n",
    "    print(\"All tests passed!\")\n",
    "\n",
    "test_sum_submatrices()"
   ],
   "id": "4ee4f3774a60ba4",
   "outputs": [
    {
     "name": "stdout",
     "output_type": "stream",
     "text": [
      "All tests passed!\n"
     ]
    }
   ],
   "execution_count": 9
  },
  {
   "metadata": {
    "ExecuteTime": {
     "end_time": "2025-03-07T07:06:44.606660Z",
     "start_time": "2025-03-07T07:06:44.580188Z"
    }
   },
   "cell_type": "code",
   "source": [
    "def max_ones(matrix):\n",
    "    \"\"\"\n",
    "    Functia max_ones returneaza indexul liniei care contine cele mai multe elemente de 1\n",
    "    :param matrix: list of lists, matricea data\n",
    "    :return: int, indexul liniei care contine cele mai multe elemente de 1\n",
    "    :complexity: O(n * m), unde n reprezinta numarul de linii al matricei, iar m reprezinta numarul de coloane al matricei\n",
    "    \"\"\"\n",
    "\n",
    "    max_one = 0\n",
    "    index = -1\n",
    "\n",
    "    for i in range(len(matrix)):\n",
    "        count = sum(matrix[i])\n",
    "        if count > max_one:\n",
    "            max_one = count\n",
    "            index = i\n",
    "\n",
    "    return index\n",
    "\n",
    "def test_max_ones():\n",
    "    assert max_ones([[0,0,0,1,1], [0,1,1,1,1], [0,0,1,1,1]]) == 1\n",
    "    assert max_ones([[0,0,0,0,0], [0,0,0,0,0], [0,0,0,0,0]]) == -1\n",
    "    assert max_ones([[1,1,1,1,1], [1,1,1,1,1], [1,1,1,1,1]]) == 0\n",
    "    assert max_ones([[0,0,0,0,0], [0,0,0,0,0], [0,0,0,0,1]]) == 2\n",
    "    assert max_ones([[0,0,0,0,0], [0,0,0,0,0], [0,0,0,1,1]]) == 2\n",
    "\n",
    "    print (\"All tests passed!\")\n",
    "\n",
    "test_max_ones()"
   ],
   "id": "362b99190e9e040c",
   "outputs": [
    {
     "name": "stdout",
     "output_type": "stream",
     "text": [
      "All tests passed!\n"
     ]
    }
   ],
   "execution_count": 10
  }
 ],
 "metadata": {
  "kernelspec": {
   "display_name": "Python 3",
   "language": "python",
   "name": "python3"
  },
  "language_info": {
   "codemirror_mode": {
    "name": "ipython",
    "version": 2
   },
   "file_extension": ".py",
   "mimetype": "text/x-python",
   "name": "python",
   "nbconvert_exporter": "python",
   "pygments_lexer": "ipython2",
   "version": "2.7.6"
  }
 },
 "nbformat": 4,
 "nbformat_minor": 5
}
