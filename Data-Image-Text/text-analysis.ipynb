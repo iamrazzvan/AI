{
 "cells": [
  {
   "metadata": {
    "ExecuteTime": {
     "end_time": "2025-03-11T13:59:39.306826Z",
     "start_time": "2025-03-11T13:59:35.127348Z"
    }
   },
   "cell_type": "code",
   "source": [
    "import requests\n",
    "\n",
    "from nltk import *"
   ],
   "id": "8fb4dcc3c0b19366",
   "outputs": [],
   "execution_count": 1
  },
  {
   "metadata": {
    "ExecuteTime": {
     "end_time": "2025-03-11T12:25:30.949948Z",
     "start_time": "2025-03-11T12:25:30.939305Z"
    }
   },
   "cell_type": "code",
   "source": [
    "file_path = \"../data/texts.txt\"\n",
    "\n",
    "with open(file_path, 'r', encoding='utf-8') as file:\n",
    "    text = file.read()"
   ],
   "id": "425c2b6c656ad855",
   "outputs": [],
   "execution_count": 23
  },
  {
   "metadata": {
    "ExecuteTime": {
     "end_time": "2025-03-11T12:25:32.447229Z",
     "start_time": "2025-03-11T12:25:32.427261Z"
    }
   },
   "cell_type": "code",
   "source": [
    "sentences = sent_tokenize(text)\n",
    "\n",
    "num_sentences = len(sentences)\n",
    "\n",
    "print (f\"Numărul de propoziții din text: {num_sentences}\")"
   ],
   "id": "eb90a3b235dce36e",
   "outputs": [
    {
     "name": "stdout",
     "output_type": "stream",
     "text": [
      "Numărul de propoziții din text: 10\n"
     ]
    }
   ],
   "execution_count": 24
  },
  {
   "metadata": {
    "ExecuteTime": {
     "end_time": "2025-03-11T12:25:34.090843Z",
     "start_time": "2025-03-11T12:25:34.073677Z"
    }
   },
   "cell_type": "code",
   "source": [
    "words = word_tokenize(text)\n",
    "\n",
    "words = [word for word in words if word.isalnum() and not word.isdigit()]\n",
    "\n",
    "num_words = len(words)\n",
    "\n",
    "print(f\"Numărul de cuvinte din text: {num_words}\")"
   ],
   "id": "bbddf97794d133c1",
   "outputs": [
    {
     "name": "stdout",
     "output_type": "stream",
     "text": [
      "Numărul de cuvinte din text: 159\n"
     ]
    }
   ],
   "execution_count": 25
  },
  {
   "metadata": {
    "ExecuteTime": {
     "end_time": "2025-03-11T12:08:03.934536Z",
     "start_time": "2025-03-11T12:08:03.918548Z"
    }
   },
   "cell_type": "code",
   "source": [
    "unique_words = set(words)\n",
    "\n",
    "num_unique_words = len(unique_words)\n",
    "\n",
    "print(f\"Numărul de cuvinte diferite din text: {num_unique_words}\")"
   ],
   "id": "1bad600af0aaa395",
   "outputs": [
    {
     "name": "stdout",
     "output_type": "stream",
     "text": [
      "Numărul de cuvinte diferite din text: 96\n"
     ]
    }
   ],
   "execution_count": 10
  },
  {
   "metadata": {
    "ExecuteTime": {
     "end_time": "2025-03-11T12:08:23.170345Z",
     "start_time": "2025-03-11T12:08:23.152039Z"
    }
   },
   "cell_type": "code",
   "source": [
    "shortest_word = min(words, key=len)\n",
    "\n",
    "print (f\"Cel mai scurt cuvânt: {shortest_word}\")\n",
    "\n",
    "longest_word = max(words, key=len)\n",
    "\n",
    "print (f\"Cel mai lung cuvânt: {longest_word}\")"
   ],
   "id": "113f9fcd5eb5dc75",
   "outputs": [
    {
     "name": "stdout",
     "output_type": "stream",
     "text": [
      "Cel mai scurt cuvânt: o\n",
      "Cel mai lung cuvânt: Confiiiiiiiiiiiiiiiiiiiiiiiiiiiirm\n"
     ]
    }
   ],
   "execution_count": 11
  },
  {
   "metadata": {
    "ExecuteTime": {
     "end_time": "2025-03-10T18:09:26.327557Z",
     "start_time": "2025-03-10T18:09:26.308110Z"
    }
   },
   "cell_type": "code",
   "source": [
    "def remove_diacritics(text):\n",
    "    return ''.join(c for c in unicodedata.normalize('NFKD', text) if unicodedata.category(c) != 'Mn')\n",
    "\n",
    "text_no_diacritics = remove_diacritics(text)\n",
    "\n",
    "print(text_no_diacritics)"
   ],
   "id": "cbc75b82191c15ee",
   "outputs": [
    {
     "name": "stdout",
     "output_type": "stream",
     "text": [
      "Mesaj de informare: \n",
      "Cursul si laboratoarele de Inteligenta Artificiala vor fi o \n",
      "provocare pentru toti. Suntem convinsi ca veti realiza proiecte \n",
      "foarte interesante. Va incurajam sa adresati intrebari atunci \n",
      "cand ceva nu e clar, atat in mod live, cat si folosind platforma \n",
      "Teams, canalul ”general”. \n",
      "Daca ati citit pana aici, va rugam sa lasati un mesaj pe canalul \n",
      "general cu textul ”Confiiiiiiiiiiiiiiiiiiiiiiiiiiiirm ca am citit \n",
      "textul pentru problema 3 din lab2”. \n",
      "--\n",
      "Mesaj de informare generat de ChatGPT:\n",
      "Stimati cursanti,\n",
      "Suntem incantati sa va avem in echipa noastra pentru Cursul si \n",
      "laboratoarele de Inteligenta Artificiala. Aceasta experienta va \n",
      "fi o adevarata provocare, dar suntem convinsi ca veti realiza \n",
      "proiecte extrem de interesante.\n",
      "Va incurajam sa fiti activi si sa adresati intrebari atunci cand \n",
      "ceva nu este clar. Fie ca este vorba de o discutie in timp real \n",
      "sau prin intermediul platformei Teams, canalul ”general”, suntem \n",
      "aici sa va sprijinim.\n",
      "Succes si sa inceapa aventura AI!\n",
      "Cu consideratie, Echipa de Inteligenta Artificiala\n"
     ]
    }
   ],
   "execution_count": 14
  },
  {
   "metadata": {
    "ExecuteTime": {
     "end_time": "2025-03-10T18:09:33.354016Z",
     "start_time": "2025-03-10T18:09:32.989239Z"
    }
   },
   "cell_type": "code",
   "source": [
    "def get_synonyms(word):\n",
    "    url = f\"https://sinonime-api.vercel.app/{word}\"\n",
    "    try:\n",
    "        response = requests.get(url)\n",
    "        if response.status_code == 200:\n",
    "            data = response.json()\n",
    "            return data.get(\"sinonime\", [])\n",
    "    except Exception as e:\n",
    "        print(f\"Eroare la obținerea sinonimelor: {e}\")\n",
    "    return []\n",
    "\n",
    "synonyms = get_synonyms(longest_word)\n",
    "print(f\"Sinonime pentru '{longest_word}': {', '.join(synonyms) if synonyms else 'Nu au fost găsite sinonime'}\")\n"
   ],
   "id": "3e4b7c6757653233",
   "outputs": [
    {
     "name": "stdout",
     "output_type": "stream",
     "text": [
      "Sinonime pentru 'Confiiiiiiiiiiiiiiiiiiiiiiiiiiiirm': Nu au fost găsite sinonime\n"
     ]
    }
   ],
   "execution_count": 15
  }
 ],
 "metadata": {
  "kernelspec": {
   "display_name": "Python 3",
   "language": "python",
   "name": "python3"
  },
  "language_info": {
   "codemirror_mode": {
    "name": "ipython",
    "version": 2
   },
   "file_extension": ".py",
   "mimetype": "text/x-python",
   "name": "python",
   "nbconvert_exporter": "python",
   "pygments_lexer": "ipython2",
   "version": "2.7.6"
  }
 },
 "nbformat": 4,
 "nbformat_minor": 5
}
