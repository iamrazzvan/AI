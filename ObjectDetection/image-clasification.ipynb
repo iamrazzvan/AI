{
 "cells": [
  {
   "metadata": {
    "ExecuteTime": {
     "end_time": "2025-03-28T14:13:35.559911Z",
     "start_time": "2025-03-28T14:13:32.163857Z"
    }
   },
   "cell_type": "code",
   "source": [
    "import os\n",
    "\n",
    "from dotenv import load_dotenv\n",
    "from azure.cognitiveservices.vision.computervision import ComputerVisionClient\n",
    "from azure.cognitiveservices.vision.computervision.models import VisualFeatureTypes\n",
    "from sklearn.metrics import accuracy_score, precision_score, recall_score, f1_score\n",
    "from msrest.authentication import CognitiveServicesCredentials"
   ],
   "id": "6a75b326a4f68832",
   "outputs": [],
   "execution_count": 1
  },
  {
   "metadata": {
    "ExecuteTime": {
     "end_time": "2025-03-28T14:13:37.485117Z",
     "start_time": "2025-03-28T14:13:37.468564Z"
    }
   },
   "cell_type": "code",
   "source": [
    "'''\n",
    "Authenticate\n",
    "Authenticates your credentials and creates a client.\n",
    "'''\n",
    "\n",
    "load_dotenv('azure.env')\n",
    "\n",
    "subscription_key = os.getenv(\"AZURE_SUBSCRIPTION_KEY\")\n",
    "endpoint = os.getenv(\"AZURE_ENDPOINT\")\n",
    "\n",
    "if not subscription_key or not endpoint:\n",
    "    raise ValueError(\"Environment variables are missing!\")\n",
    "\n",
    "cognitive_services_credentials = CognitiveServicesCredentials(subscription_key)\n",
    "\n",
    "computervision_client = ComputerVisionClient(endpoint, cognitive_services_credentials)\n",
    "\n",
    "'''\n",
    "END - Authenticate\n",
    "'''"
   ],
   "id": "e3b9e7fc9ac48d55",
   "outputs": [
    {
     "data": {
      "text/plain": [
       "'\\nEND - Authenticate\\n'"
      ]
     },
     "execution_count": 2,
     "metadata": {},
     "output_type": "execute_result"
    }
   ],
   "execution_count": 2
  },
  {
   "metadata": {
    "ExecuteTime": {
     "end_time": "2025-03-28T14:13:39.695139Z",
     "start_time": "2025-03-28T14:13:39.687472Z"
    }
   },
   "cell_type": "code",
   "source": [
    "# Functie de clasificare a imaginilor\n",
    "\n",
    "def classify_image(img_path):\n",
    "    with open(img_path, \"rb\") as image_stream:\n",
    "        analysis = computervision_client.analyze_image_in_stream(image_stream, visual_features=[VisualFeatureTypes.tags])\n",
    "    tags = [tag.name for tag in analysis.tags]\n",
    "    return \"bicycle\" in tags"
   ],
   "id": "99b2c10a7f5052d4",
   "outputs": [],
   "execution_count": 3
  },
  {
   "metadata": {
    "ExecuteTime": {
     "end_time": "2025-03-28T14:13:43.338914Z",
     "start_time": "2025-03-28T14:13:43.331633Z"
    }
   },
   "cell_type": "code",
   "source": [
    "test_images = [\n",
    "    \"data/bikes/bike01.png\",\n",
    "    \"data/bikes/bike02.png\",\n",
    "    \"data/bikes/bike03.png\",\n",
    "    \"data/bikes/bike04.png\",\n",
    "    \"data/bikes/bike05.png\",\n",
    "    \"data/bikes/bike06.png\",\n",
    "    \"data/bikes/bike07.png\",\n",
    "    \"data/bikes/bike08.png\",\n",
    "    \"data/bikes/bike09.png\",\n",
    "    \"data/bikes/bike10.png\",\n",
    "\n",
    "    \"data/bikes/traffic01.jpg\",\n",
    "    \"data/bikes/traffic02.jpg\",\n",
    "    \"data/bikes/traffic03.jpg\",\n",
    "    \"data/bikes/traffic04.jpg\",\n",
    "    \"data/bikes/traffic05.jpg\",\n",
    "    \"data/bikes/traffic06.jpg\",\n",
    "    \"data/bikes/traffic07.jpg\",\n",
    "    \"data/bikes/traffic08.jpg\",\n",
    "    \"data/bikes/traffic09.jpg\",\n",
    "    \"data/bikes/traffic10.jpg\"\n",
    "]\n",
    "\n",
    "true_labels = [True] * 10 + [False] * 10"
   ],
   "id": "de17fd3183c37e61",
   "outputs": [],
   "execution_count": 4
  },
  {
   "metadata": {
    "ExecuteTime": {
     "end_time": "2025-03-28T14:13:52.339234Z",
     "start_time": "2025-03-28T14:13:46.281990Z"
    }
   },
   "cell_type": "code",
   "source": [
    "predictions = []\n",
    "for image_path in test_images:\n",
    "    prediction = classify_image(image_path)\n",
    "    predictions.append(1 if prediction else 0)"
   ],
   "id": "9810fb1d4fd7c44f",
   "outputs": [],
   "execution_count": 5
  },
  {
   "metadata": {
    "ExecuteTime": {
     "end_time": "2025-03-28T14:13:59.881195Z",
     "start_time": "2025-03-28T14:13:59.858901Z"
    }
   },
   "cell_type": "code",
   "source": [
    "accuracy = accuracy_score(true_labels, predictions) # proportia de predictii corecte din total\n",
    "precision = precision_score(true_labels, predictions) # proportia de predictii pozitive corecte din total\n",
    "recall = recall_score(true_labels, predictions) # proportia de cazuri pozitive corect identificate din total (cate dintre obiectele reale au fost detectate)\n",
    "f1 = f1_score(true_labels, predictions) # media armonica a precision si a recall\n",
    "\n",
    "print(f\"Accuracy: {accuracy}\")\n",
    "print(f\"Precision: {precision}\")\n",
    "print(f\"Recall: {recall}\")\n",
    "print(f\"F1 Score: {f1}\")"
   ],
   "id": "fe703e60e174ce60",
   "outputs": [
    {
     "name": "stdout",
     "output_type": "stream",
     "text": [
      "Accuracy: 1.0\n",
      "Precision: 1.0\n",
      "Recall: 1.0\n",
      "F1 Score: 1.0\n"
     ]
    }
   ],
   "execution_count": 6
  }
 ],
 "metadata": {
  "kernelspec": {
   "display_name": "Python 3",
   "language": "python",
   "name": "python3"
  },
  "language_info": {
   "codemirror_mode": {
    "name": "ipython",
    "version": 2
   },
   "file_extension": ".py",
   "mimetype": "text/x-python",
   "name": "python",
   "nbconvert_exporter": "python",
   "pygments_lexer": "ipython2",
   "version": "2.7.6"
  }
 },
 "nbformat": 4,
 "nbformat_minor": 5
}
