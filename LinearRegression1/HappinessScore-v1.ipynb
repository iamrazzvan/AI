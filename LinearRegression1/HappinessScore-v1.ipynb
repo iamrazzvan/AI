{
 "cells": [
  {
   "metadata": {
    "ExecuteTime": {
     "end_time": "2025-04-06T14:51:08.348058Z",
     "start_time": "2025-04-06T14:51:04.124420Z"
    }
   },
   "cell_type": "code",
   "source": [
    "import csv\n",
    "import pandas as pd\n",
    "from sklearn.model_selection import train_test_split\n",
    "from sklearn.linear_model import LinearRegression\n",
    "from sklearn.metrics import mean_squared_error\n",
    "import numpy as np\n",
    "from math import exp\n",
    "from math import log2\n",
    "from numpy.linalg import inv"
   ],
   "id": "bb539f0831c224e4",
   "outputs": [],
   "execution_count": 5
  },
  {
   "metadata": {
    "ExecuteTime": {
     "end_time": "2025-04-06T14:51:10.170113Z",
     "start_time": "2025-04-06T14:51:10.155008Z"
    }
   },
   "cell_type": "code",
   "source": [
    "class MyLinearUnivariateRegression:\n",
    "    def __init__(self):\n",
    "        self.intercept_ = 0.0\n",
    "        self.coef_ = 0.0\n",
    "\n",
    "        self.intercept2_ = 0.0\n",
    "        self.coef1_ = 0.0\n",
    "        self.coef2_ = 0.0\n",
    "\n",
    "    # learn a linear univariate regression model by using training inputs (x) and outputs (y)\n",
    "    def fit(self, x, y):\n",
    "        sx = sum(x)\n",
    "        sy = sum(y)\n",
    "        sx2 = sum(i * i for i in x)\n",
    "        sxy = sum(i * j for (i,j) in zip(x, y))\n",
    "        w1 = (len(x) * sxy - sx * sy) / (len(x) * sx2 - sx * sx + 0.0000000000000000000000000000000000001)\n",
    "        w0 = (sy - w1 * sx) / len(x)\n",
    "        self.intercept_, self.coef_ =  w0, w1\n",
    "\n",
    "    def fit2(self,x1,x2,y):\n",
    "        avgy = sum(y)/len(y)\n",
    "        avgx1 = sum(x1)/len(x1)\n",
    "        avgx2 = sum(x2)/len(x2)\n",
    "\n",
    "        w1 = sum(i*i for i in x2)*sum(i*j for i,j in zip(x1,y)) - sum(i*j for i,j in zip(x1,x2))*sum(i*j for i,j in zip(x2,y))\n",
    "        w1 = w1 / (sum(i*i for i in x1)*sum(i*i for i in x2)*pow(sum(i*j for i,j in zip(x1,x2)),2))\n",
    "\n",
    "        w2 = sum(i*i for i in x1)*sum(i*j for i,j in zip(x2,y)) - sum(i*j for i,j in zip(x1,x2))*sum(i*j for i,j in zip(x1,y))\n",
    "        w2 = w2/ (sum(i*i for i in x1)*sum(i*i for i in x2)*pow(sum(i*j for i,j in zip(x1,x2)),2))\n",
    "\n",
    "        w0 = avgy - w1*avgx1-w2*avgx2\n",
    "\n",
    "        self.intercept2_ = w0\n",
    "        self.coef1_ = w1\n",
    "        self.coef2_ = w2\n",
    "\n",
    "\n",
    "    # predict the outputs for some new inputs (by using the learnt model)\n",
    "    def predict(self, x):\n",
    "        if (isinstance(x[0], list)):\n",
    "            return [self.intercept_ + self.coef_ * val[0] for val in x]\n",
    "        else:\n",
    "            return [self.intercept_ + self.coef_ * val for val in x]\n",
    "\n",
    "    def predict2(self,x1,x2):\n",
    "        if(isinstance(x1,list) and isinstance(x2,list)):\n",
    "            return [self.intercept2_ + self.coef1_ * val[0] + self.coef2_ * val[1] for val in zip(x1,x2)]\n",
    "        else:\n",
    "            return self.intercept2_ + self.coef1_ * x1 + self.coef2_ * x2"
   ],
   "id": "96c2066c1b73501c",
   "outputs": [],
   "execution_count": 6
  },
  {
   "metadata": {
    "ExecuteTime": {
     "end_time": "2025-04-06T14:51:14.281445Z",
     "start_time": "2025-04-06T14:51:14.241788Z"
    }
   },
   "cell_type": "code",
   "source": [
    "def loadData(fileName, inputVariabName, outputVariabName):\n",
    "    data = []\n",
    "    dataNames = []\n",
    "    with open(fileName) as csv_file:\n",
    "        csv_reader = csv.reader(csv_file, delimiter=',')\n",
    "        line_count = 0\n",
    "        for row in csv_reader:\n",
    "            if line_count == 0:\n",
    "                dataNames = row\n",
    "            else:\n",
    "                data.append(row)\n",
    "            line_count += 1\n",
    "    selectedVariable = dataNames.index(inputVariabName)\n",
    "    inputs = [float(data[i][selectedVariable]) for i in range(len(data)) if data[i][selectedVariable] != '' and data[i][selectedVariable] != 0]\n",
    "    selectedOutput = dataNames.index(outputVariabName)\n",
    "    outputs = [float(data[i][selectedOutput]) for i in range(len(data)) if data[i][selectedVariable] != '' and data[i][selectedVariable] != 0]\n",
    "\n",
    "    return inputs, outputs\n",
    "\n",
    "def load2Data(fileName, firstVariabName, secondVariableName, outputVariabName):\n",
    "    data = []\n",
    "    dataNames = []\n",
    "    with open(fileName) as csv_file:\n",
    "        csv_reader = csv.reader(csv_file, delimiter=',')\n",
    "        line_count = 0\n",
    "        for row in csv_reader:\n",
    "            if line_count == 0:\n",
    "                dataNames = row\n",
    "            else:\n",
    "                data.append(row)\n",
    "            line_count += 1\n",
    "    selectedOutput = dataNames.index(outputVariabName)\n",
    "    selectedVariable1 = dataNames.index(firstVariabName)\n",
    "    selectedVariable2 = dataNames.index(secondVariableName)\n",
    "\n",
    "    inputs1 = []\n",
    "    inputs2 = []\n",
    "    outputs = []\n",
    "\n",
    "    for i in range(len(data)):\n",
    "        i1 = data[i][selectedVariable1]\n",
    "        i2 = data[i][selectedVariable2]\n",
    "        out = data[i][selectedOutput]\n",
    "\n",
    "        if i1 != '' and i1 != 0 and i2 != '' and i2 != 0:\n",
    "            inputs1.append(float(i1))\n",
    "            inputs2.append(float(i2))\n",
    "            outputs.append(float(out))\n",
    "\n",
    "    return inputs1,inputs2,outputs\n"
   ],
   "id": "aa0b776309cebde5",
   "outputs": [],
   "execution_count": 7
  },
  {
   "metadata": {
    "ExecuteTime": {
     "end_time": "2025-04-06T15:06:59.326306Z",
     "start_time": "2025-04-06T15:06:59.314033Z"
    }
   },
   "cell_type": "code",
   "source": [
    "inputsF, outsF = loadData('data/v1_world-happiness-report-2017.csv','Family','Happiness.Score')\n",
    "inputsPib, inputsFreedom, outsPF = load2Data('data/v1_world-happiness-report-2017.csv','Economy..GDP.per.Capita.','Freedom','Happiness.Score')"
   ],
   "id": "1cc7575193113c1a",
   "outputs": [],
   "execution_count": 18
  },
  {
   "metadata": {},
   "cell_type": "code",
   "outputs": [],
   "execution_count": null,
   "source": "# cu tool pentru v1",
   "id": "598a2b295b24f2dc"
  },
  {
   "metadata": {
    "ExecuteTime": {
     "end_time": "2025-04-06T15:07:01.192038Z",
     "start_time": "2025-04-06T15:07:01.171053Z"
    }
   },
   "cell_type": "code",
   "source": [
    "# Familie\n",
    "def train_and_evaluate_model(inputsF, outsF, example_input):\n",
    "    df = pd.DataFrame({'Family': inputsF, 'Happiness': outsF})\n",
    "\n",
    "    # Split data\n",
    "    X_train, X_test, y_train, y_test = train_test_split(\n",
    "        df[['Family']], df['Happiness'], test_size=0.2, random_state=42\n",
    "    )\n",
    "\n",
    "    # Train model\n",
    "    model = LinearRegression()\n",
    "    model.fit(X_train, y_train)\n",
    "\n",
    "    # Predict and evaluate\n",
    "    y_pred = model.predict(X_test)\n",
    "    mse = mean_squared_error(y_test, y_pred)\n",
    "    print(\"Mean Squared Error:\", mse)\n",
    "\n",
    "    # Predict example\n",
    "    example_df = pd.DataFrame({'Family': example_input})\n",
    "    predicted = model.predict(example_df)\n",
    "    print(\"Predicted Happiness:\", predicted)\n",
    "\n",
    "    return model\n",
    "\n",
    "model_family = train_and_evaluate_model(inputsF, outsF, [1.7])\n"
   ],
   "id": "60d7e6f0132aa561",
   "outputs": [
    {
     "name": "stdout",
     "output_type": "stream",
     "text": [
      "Mean Squared Error: 1.2990703065242777\n",
      "Predicted Happiness: [6.08618083]\n"
     ]
    }
   ],
   "execution_count": 19
  },
  {
   "metadata": {
    "ExecuteTime": {
     "end_time": "2025-04-06T15:07:03.679745Z",
     "start_time": "2025-04-06T15:07:03.664185Z"
    }
   },
   "cell_type": "code",
   "source": [
    "# Pib & Libertate\n",
    "def train_and_evaluate_model(features, target, example_input, feature_names):\n",
    "    df = pd.DataFrame({**{name: col for name, col in zip(feature_names, features)}, 'Happiness': target})\n",
    "\n",
    "    # Split data\n",
    "    X = df[feature_names]\n",
    "    y = df['Happiness']\n",
    "    X_train, X_test, y_train, y_test = train_test_split(X, y, test_size=0.2, random_state=42)\n",
    "\n",
    "    # Train model\n",
    "    model = LinearRegression()\n",
    "    model.fit(X_train, y_train)\n",
    "\n",
    "    # Predict and evaluate\n",
    "    y_pred = model.predict(X_test)\n",
    "    mse = mean_squared_error(y_test, y_pred)\n",
    "    print(\"Mean Squared Error:\", mse)\n",
    "\n",
    "    # Predict example\n",
    "    example_df = pd.DataFrame([example_input], columns=feature_names)\n",
    "    predicted = model.predict(example_df)\n",
    "    print(\"Predicted Happiness:\", predicted)\n",
    "\n",
    "    return model\n",
    "\n",
    "# Example call\n",
    "model_pib_freedom = train_and_evaluate_model(\n",
    "    features=[inputsPib, inputsFreedom],\n",
    "    target=outsPF,\n",
    "    example_input=[1.61, 0.61],\n",
    "    feature_names=['Pib', 'Freedom']\n",
    ")"
   ],
   "id": "ba13386c5e017058",
   "outputs": [
    {
     "name": "stdout",
     "output_type": "stream",
     "text": [
      "Mean Squared Error: 0.2303788880955436\n",
      "Predicted Happiness: [6.94729923]\n"
     ]
    }
   ],
   "execution_count": 20
  },
  {
   "metadata": {},
   "cell_type": "code",
   "outputs": [],
   "execution_count": null,
   "source": "# fara tool pentru v1",
   "id": "ce28214cca06cf2b"
  },
  {
   "metadata": {
    "ExecuteTime": {
     "end_time": "2025-04-06T15:07:06.156530Z",
     "start_time": "2025-04-06T15:07:06.143883Z"
    }
   },
   "cell_type": "code",
   "source": [
    "# Familie\n",
    "def train_and_evaluate_model_univariate(inputs, outputs, example_input):\n",
    "    model = MyLinearUnivariateRegression()\n",
    "    model.fit(inputs, outputs)\n",
    "\n",
    "    # Predict and evaluate\n",
    "    predicted = model.predict(example_input)\n",
    "    print(\"Predicted Happiness:\", predicted)\n",
    "\n",
    "    return model\n",
    "\n",
    "model_family_univariate = train_and_evaluate_model_univariate(inputsF, outsF, [1.7])"
   ],
   "id": "7b4956696deccc03",
   "outputs": [
    {
     "name": "stdout",
     "output_type": "stream",
     "text": [
      "Predicted Happiness: [5.528506822884081e+25]\n"
     ]
    }
   ],
   "execution_count": 21
  },
  {
   "metadata": {
    "ExecuteTime": {
     "end_time": "2025-04-06T15:07:08.903297Z",
     "start_time": "2025-04-06T15:07:08.891271Z"
    }
   },
   "cell_type": "code",
   "source": [
    "# Pib & Libertate\n",
    "def train_and_evaluate_model_multivariate(inputs1, inputs2, outputs, example_input):\n",
    "    model = MyLinearUnivariateRegression()\n",
    "    model.fit2(inputs1, inputs2, outputs)\n",
    "\n",
    "    # Predict and evaluate\n",
    "    predicted = model.predict2(example_input[0], example_input[1])\n",
    "    print(\"Predicted Happiness:\", predicted)\n",
    "\n",
    "    return model\n",
    "\n",
    "model_pib_freedom_univariate = train_and_evaluate_model_multivariate(inputsPib, inputsFreedom, outsPF, [1.61, 0.61])"
   ],
   "id": "cf2f32d59348d67f",
   "outputs": [
    {
     "name": "stdout",
     "output_type": "stream",
     "text": [
      "Predicted Happiness: 5.3541293855733265\n"
     ]
    }
   ],
   "execution_count": 22
  }
 ],
 "metadata": {
  "kernelspec": {
   "display_name": "Python 3",
   "language": "python",
   "name": "python3"
  },
  "language_info": {
   "codemirror_mode": {
    "name": "ipython",
    "version": 2
   },
   "file_extension": ".py",
   "mimetype": "text/x-python",
   "name": "python",
   "nbconvert_exporter": "python",
   "pygments_lexer": "ipython2",
   "version": "2.7.6"
  }
 },
 "nbformat": 4,
 "nbformat_minor": 5
}
