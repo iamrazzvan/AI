{
 "cells": [
  {
   "cell_type": "code",
   "id": "initial_id",
   "metadata": {
    "collapsed": true,
    "ExecuteTime": {
     "end_time": "2025-04-06T15:09:07.506412Z",
     "start_time": "2025-04-06T15:09:05.152437Z"
    }
   },
   "source": [
    "import csv\n",
    "import pandas as pd\n",
    "from sklearn.model_selection import train_test_split\n",
    "from sklearn.linear_model import LinearRegression\n",
    "from sklearn.metrics import mean_squared_error"
   ],
   "outputs": [],
   "execution_count": 1
  },
  {
   "metadata": {
    "ExecuteTime": {
     "end_time": "2025-04-06T15:09:08.953193Z",
     "start_time": "2025-04-06T15:09:08.931743Z"
    }
   },
   "cell_type": "code",
   "source": [
    "def loadData(fileName, inputVariabName, outputVariabName):\n",
    "    data = []\n",
    "    dataNames = []\n",
    "    with open(fileName) as csv_file:\n",
    "        csv_reader = csv.reader(csv_file, delimiter=',')\n",
    "        line_count = 0\n",
    "        for row in csv_reader:\n",
    "            if line_count == 0:\n",
    "                dataNames = row\n",
    "            else:\n",
    "                data.append(row)\n",
    "            line_count += 1\n",
    "    selectedVariable = dataNames.index(inputVariabName)\n",
    "    inputs = [float(data[i][selectedVariable]) for i in range(len(data)) if data[i][selectedVariable] != '' and data[i][selectedVariable] != 0]\n",
    "    selectedOutput = dataNames.index(outputVariabName)\n",
    "    outputs = [float(data[i][selectedOutput]) for i in range(len(data)) if data[i][selectedVariable] != '' and data[i][selectedVariable] != 0]\n",
    "\n",
    "    return inputs, outputs\n",
    "\n",
    "def load2Data(fileName, firstVariabName, secondVariableName, outputVariabName):\n",
    "    data = []\n",
    "    dataNames = []\n",
    "    with open(fileName) as csv_file:\n",
    "        csv_reader = csv.reader(csv_file, delimiter=',')\n",
    "        line_count = 0\n",
    "        for row in csv_reader:\n",
    "            if line_count == 0:\n",
    "                dataNames = row\n",
    "            else:\n",
    "                data.append(row)\n",
    "            line_count += 1\n",
    "    selectedOutput = dataNames.index(outputVariabName)\n",
    "    selectedVariable1 = dataNames.index(firstVariabName)\n",
    "    selectedVariable2 = dataNames.index(secondVariableName)\n",
    "\n",
    "    inputs1 = []\n",
    "    inputs2 = []\n",
    "    outputs = []\n",
    "\n",
    "    for i in range(len(data)):\n",
    "        i1 = data[i][selectedVariable1]\n",
    "        i2 = data[i][selectedVariable2]\n",
    "        out = data[i][selectedOutput]\n",
    "\n",
    "        if i1 != '' and i1 != 0 and i2 != '' and i2 != 0:\n",
    "            inputs1.append(float(i1))\n",
    "            inputs2.append(float(i2))\n",
    "            outputs.append(float(out))\n",
    "\n",
    "    return inputs1, inputs2, outputs"
   ],
   "id": "7d26aeb45514d403",
   "outputs": [],
   "execution_count": 2
  },
  {
   "metadata": {
    "ExecuteTime": {
     "end_time": "2025-04-06T15:09:12.361998Z",
     "start_time": "2025-04-06T15:09:12.330741Z"
    }
   },
   "cell_type": "code",
   "source": [
    "inputsF, outsF = loadData('data/v2_world-happiness-report-2017.csv','Family','Happiness.Score')\n",
    "inputsPib, inputsFreedom, outsPF = load2Data('data/v2_world-happiness-report-2017.csv','Economy..GDP.per.Capita.','Freedom','Happiness.Score')"
   ],
   "id": "6950cafc7a96bd19",
   "outputs": [],
   "execution_count": 3
  },
  {
   "metadata": {
    "ExecuteTime": {
     "end_time": "2025-04-06T15:09:13.975440Z",
     "start_time": "2025-04-06T15:09:13.910138Z"
    }
   },
   "cell_type": "code",
   "source": [
    "# Familie\n",
    "def train_and_evaluate_model(inputsF, outsF, example_input):\n",
    "    df = pd.DataFrame({'Family': inputsF, 'Happiness': outsF})\n",
    "\n",
    "    # Split data\n",
    "    X_train, X_test, y_train, y_test = train_test_split(\n",
    "        df[['Family']], df['Happiness'], test_size=0.2, random_state=42\n",
    "    )\n",
    "\n",
    "    # Train model\n",
    "    model = LinearRegression()\n",
    "    model.fit(X_train, y_train)\n",
    "\n",
    "    # Predict and evaluate\n",
    "    y_pred = model.predict(X_test)\n",
    "    mse = mean_squared_error(y_test, y_pred)\n",
    "    print(\"Mean Squared Error:\", mse)\n",
    "\n",
    "    # Predict example\n",
    "    example_df = pd.DataFrame({'Family': example_input})\n",
    "    predicted = model.predict(example_df)\n",
    "    print(\"Predicted Happiness:\", predicted)\n",
    "\n",
    "    return model\n",
    "\n",
    "model_family = train_and_evaluate_model(inputsF, outsF, [1.7])"
   ],
   "id": "8b7b369c568b7238",
   "outputs": [
    {
     "name": "stdout",
     "output_type": "stream",
     "text": [
      "Mean Squared Error: 0.6577421455835356\n",
      "Predicted Happiness: [6.88166476]\n"
     ]
    }
   ],
   "execution_count": 4
  },
  {
   "metadata": {
    "ExecuteTime": {
     "end_time": "2025-04-06T15:11:10.364962Z",
     "start_time": "2025-04-06T15:11:10.340402Z"
    }
   },
   "cell_type": "code",
   "source": [
    "# Pib & Libertate\n",
    "def train_and_evaluate_model(features, target, example_input, feature_names):\n",
    "    df = pd.DataFrame({**{name: col for name, col in zip(feature_names, features)}, 'Happiness': target})\n",
    "\n",
    "    # Split data\n",
    "    X = df[feature_names]\n",
    "    y = df['Happiness']\n",
    "    X_train, X_test, y_train, y_test = train_test_split(X, y, test_size=0.2, random_state=42)\n",
    "\n",
    "    # Train model\n",
    "    model = LinearRegression()\n",
    "    model.fit(X_train, y_train)\n",
    "\n",
    "    # Predict and evaluate\n",
    "    y_pred = model.predict(X_test)\n",
    "    mse = mean_squared_error(y_test, y_pred)\n",
    "    print(\"Mean Squared Error:\", mse)\n",
    "\n",
    "    # Predict example\n",
    "    example_df = pd.DataFrame([example_input], columns=feature_names)\n",
    "    predicted = model.predict(example_df)\n",
    "    print(\"Predicted Happiness:\", predicted)\n",
    "\n",
    "    return model\n",
    "\n",
    "# Example call\n",
    "model_pib_freedom = train_and_evaluate_model(\n",
    "    features=[inputsPib, inputsFreedom],\n",
    "    target=outsPF,\n",
    "    example_input=[1.61, 0.61],\n",
    "    feature_names=['Pib', 'Freedom']\n",
    ")"
   ],
   "id": "b439c1dcdff09a10",
   "outputs": [
    {
     "name": "stdout",
     "output_type": "stream",
     "text": [
      "Mean Squared Error: 0.3683180155898609\n",
      "Predicted Happiness: [9162834.91566559]\n"
     ]
    }
   ],
   "execution_count": 6
  }
 ],
 "metadata": {
  "kernelspec": {
   "display_name": "Python 3",
   "language": "python",
   "name": "python3"
  },
  "language_info": {
   "codemirror_mode": {
    "name": "ipython",
    "version": 2
   },
   "file_extension": ".py",
   "mimetype": "text/x-python",
   "name": "python",
   "nbconvert_exporter": "python",
   "pygments_lexer": "ipython2",
   "version": "2.7.6"
  }
 },
 "nbformat": 4,
 "nbformat_minor": 5
}
